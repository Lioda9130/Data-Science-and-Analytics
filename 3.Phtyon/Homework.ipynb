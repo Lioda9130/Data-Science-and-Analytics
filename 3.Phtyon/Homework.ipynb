{
      "cell_type": "markdown",
      "source": [
        "**1. 변수**"
      ],
      "metadata": {
        "id": "arJJSyuacLG-"
      }
    },
    {
      "cell_type": "markdown",
      "source": [
        "**1) 변수 선언**\n",
        "\n",
        "*   변수는 C와 달리 문자열, 정수, 실수 등 자료형을 구분하지 않음\n",
        "*   변수명에 자료형을 구분하는 습관은 중요\n",
        "\n"
      ],
      "metadata": {
        "id": "xju__tjEcbfh"
      }
    },
    
 "cells": [
  {
   "cell_type": "code",
   "execution_count": 2,
   "id": "0f34f810",
   "metadata": {},
   "outputs": [],
   "source": [
   "strVal = 'data science'               # 문자열 변수\n",
        "nVal = 12345                          # 정수형 변수\n",
        "fVal = 1.2                            # 실수형 변수\n",
        "lVal = ['data', 'science']            # 리스트\n",
        "dVal = {'lecture' : 'data science'}   # 딕셔너리\n",
        "bVal = True                           # 논리형 변수(참/거짓)"
   ]
  },
    {
   "cell_type": "code",
   "execution_count": 2,
   "id": "0f34f826",
   "metadata": {},
   "outputs": [],
   "source": [
   "# 기본적인 주석\n",
     "''' \n",
        "이런 형태의 주석도 많이 사용\n",
        "'''"
   ]
  },
   {
   "cell_type": "code",
   "execution_count": 2,
   "id": "0f34f826",
   "metadata": {},
   "outputs": [],
   "source": [
    "strVal ",
    "nVal ",
    "fVal ",
    "lVal ",
    "dVal ",
    "bVal \n",
    "print('strVal : ', strVal)\n",
        "print('nVal : ', nVal)\n",
        "print('fVal : ', fVal)\n",
        "print('lVal : ', lVal)\n",
        "print('dVal : ', dVal)\n",
        "print('bVal : ', bVal)",
        "print('strVal : ', type(strVal))\n",
        "print('nVal : ', type(nVal))\n",
        "print('fVal : ', type(fVal))\n",
        "print('lVal : ', type(lVal))\n",
        "print('dVal : ', type(dVal))\n",
        "print('bVal : ', type(bVal))"
    
   ]
  },
   {
   "cell_type": "code",
   "execution_count": 2,
   "id": "0f34f806",
   "metadata": {},
   "outputs": [],
   "source": [
   "'''\n",
        "같은 변수명일 경우, 이전 데이터를 덮어씀\n",
        "'''\n",
        "nVal = 16                          # 정수형 변수\n",
        "fVal = 3.14                        # 실수형 변수\n",
        "print('10진수 표현 : ', nVal)       # 10진수\n",
        "print('2진수 표현 : ', bin(nVal))  # 2진수\n",
        "print('8진수 표현 : ', oct(nVal))  # 8진수\n",
        "print('16진수 표현 : ', hex(nVal))  # 16진수"
   ]
  },
   {
   "cell_type": "code",
   "execution_count": 2,
   "id": "0f34f826",
   "metadata": {},
   "outputs": [],
   "source": [
    "btVal = True                           # 논리형 변수(참)\n",
        "bfVal = False                          # 논리형 변수(거짓)",
        "btVal = TRUE                          # 논리형 변수(참) - 오류\n",
        "bfVal = FALSE                          # 논리형 변수(거짓) - 오류",
        "btVal = true                          # 논리형 변수(참) - 오류\n",
        "bfVal = false                          # 논리형 변수(거짓) - 오류\n",
        "10 == 11\n",
       " 10 != 11\n",
       "10 >= 11\n",
       "10 <= 11\n",
       "10 > 11\n",
       "10 < 11\n",
       "nBig = 100\n",
       "nSmall = 10\n",
        "print(nBig == nSmall)\n",
        "print(nBig != nSmall)\n",
        "print(nBig >= nSmall)\n",
        "print(nBig <= nSmall)\n",
        "print(nBig > nSmall)\n",
        "print(nBig < nSmall)\n",
        "print(nBig =< nSmall)     # 오류\n",
        "print(nBig => nSmall)     # 오류\n"
   ]
  },
   {
   "cell_type": "code",
   "execution_count": 2,
   "id": "0f34f826",
   "metadata": {},
   "outputs": [],
   "source": [
   "strData = 'data'               # 문자열 변수\n",
        "strSci = \"Science\"             # 문자열 변수\n",
         "strLecture = strData + strSci\n",
    "strLecture\n",
    "strLecture = strData +\" \"+ strSci\n",
        "strLecture\n",
    "strLecture.split()              # split()으로 공백을 기준으로 문자열 구분\n",
    "lSeperate = strLecture.split() # split()으로 공백을 기준으로 문자열 구분하여 lSeperate 변수에 저장\n",
     "type(lSeperate)\n",
    "strHello = \"안녕하세요. 반갑습니다.\n",
    "strHello.find(\"반갑\")       # 문자열을 찾기 위해 find() 함수를 이용\n",
    "strHello.find(\"hello\")    # 문자열이 없으면, -1을 리턴\n",
    "\"반갑\" in strHello          # in 명령어를 사용하여 확인 가능 : if 조건문에서 활용\n",
     "strHello.replace('.', '?')    # .을 모두 ?로 변경\n",
     "strHello.replace('.', '?')                  \n",
        "strHello.replace(\"하세요\", \"하셔유\")       # 안녕하셔유? 가 될까요?\n",
        "strHello                      # 원본 데이터는 변하지 않음\n",
         "strNewHello = strHello.replace('.', '?')                    # strHello를 replace하여 strNewHello에 저장   \n",
        "strNewHello = strNewHello.replace(\"하세요\", \"하셔유\")       # strNewHello를 replace하여 strNewHello에 저장\n",
        "strNewHello\n",
        "strHello.strip('반갑습니다.')    # strip()함수를 이용하여 \"반갑습니다.\"를 제거\n",
        "strHello                    # 역시 원본 데이터는 변하지 않음"
        
     
    
   ]
  },
   {
   "cell_type": "code",
   "execution_count": 2,
   "id": "0f34f823",
   "metadata": {},
   "outputs": [],
   "source": [
    "3333"
   ]
  },
     {
   "cell_type": "code",
   "execution_count": 2,
   "id": "0f34f823",
   "metadata": {},
   "outputs": [],
   "source": [
    "3333"
   ]
  },
     {
   "cell_type": "code",
   "execution_count": 2,
   "id": "0f34f823",
   "metadata": {},
   "outputs": [],
   "source": [
    "3333"
   ]
  },
     {
   "cell_type": "code",
   "execution_count": 2,
   "id": "0f34f823",
   "metadata": {},
   "outputs": [],
   "source": [
    "3333"
   ]
  },
     {
   "cell_type": "code",
   "execution_count": 2,
   "id": "0f34f823",
   "metadata": {},
   "outputs": [],
   "source": [
    "3333"
   ]
  },
     {
   "cell_type": "code",
   "execution_count": 2,
   "id": "0f34f823",
   "metadata": {},
   "outputs": [],
   "source": [
    "3333"
   ]
  },
     {
   "cell_type": "code",
   "execution_count": 2,
   "id": "0f34f823",
   "metadata": {},
   "outputs": [],
   "source": [
    "3333"
   ]
  },
     {
   "cell_type": "code",
   "execution_count": 2,
   "id": "0f34f823",
   "metadata": {},
   "outputs": [],
   "source": [
    "3333"
   ]
  }
 ],
 "metadata": {
  "kernelspec": {
   "display_name": "Python 3",
   "language": "python",
   "name": "python3"
  },
  "language_info": {
   "codemirror_mode": {
    "name": "ipython",
    "version": 3
   },
   "file_extension": ".py",
   "mimetype": "text/x-python",
   "name": "python",
   "nbconvert_exporter": "python",
   "pygments_lexer": "ipython3",
   "version": "3.8.8"
  }
 },
 "nbformat": 4,
 "nbformat_minor": 5
}
