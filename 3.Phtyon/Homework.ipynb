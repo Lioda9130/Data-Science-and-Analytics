{
 "cells": [
  {
   "cell_type": "markdown",
   "id": "f4334038",
   "metadata": {},
   "source": [
    "#3장"
   ]
  },
  {
   "cell_type": "markdown",
   "metadata": {},
   "source": [
    "### 연습문제 9.5.4"
   ]
  },
  {
   "cell_type": "code",
   "execution_count": 3,
   "id": "773058c4",
   "metadata": {},
   "outputs": [
    {
     "data": {
      "text/plain": [
       "array([0, 0, 0, 0, 0, 5])"
      ]
     },
     "execution_count": 3,
     "metadata": {},
     "output_type": "execute_result"
    }
   ]
