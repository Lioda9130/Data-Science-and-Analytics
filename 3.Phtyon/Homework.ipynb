{
 "cells": [
  {
   "cell_type": "code",
   "execution_count": 2,
   "id": "0f34f810",
   "metadata": {},
   "outputs": [],
   "source": [
   "strVal = 'data science'               # 문자열 변수\n",
        "nVal = 12345                          # 정수형 변수\n",
        "fVal = 1.2                            # 실수형 변수\n",
        "lVal = ['data', 'science']            # 리스트\n",
        "dVal = {'lecture' : 'data science'}   # 딕셔너리\n",
        "bVal = True                           # 논리형 변수(참/거짓)"
   ]
  },
    {
   "cell_type": "code",
   "execution_count": 2,
   "id": "0f34f826",
   "metadata": {},
   "outputs": [],
   "source": [
   "# 기본적인 주석\n",
     "''' \n",
        "이런 형태의 주석도 많이 사용\n",
        "'''"
   ]
  },
   {
   "cell_type": "code",
   "execution_count": 2,
   "id": "0f34f826",
   "metadata": {},
   "outputs": [],
   "source": [
    "strVal",
    "nVal",
    "fVal",
    "lVal",
    "dVal",
    "bVal"
   ]
  },
   {
   "cell_type": "code",
   "execution_count": 2,
   "id": "0f34f826",
   "metadata": {},
   "outputs": [],
   "source": [
    "2222"
   ]
  },
   {
   "cell_type": "code",
   "execution_count": 2,
   "id": "0f34f826",
   "metadata": {},
   "outputs": [],
   "source": [
    "2222"
   ]
  },
   {
   "cell_type": "code",
   "execution_count": 2,
   "id": "0f34f826",
   "metadata": {},
   "outputs": [],
   "source": [
    "2222"
   ]
  },
   {
   "cell_type": "code",
   "execution_count": 2,
   "id": "0f34f823",
   "metadata": {},
   "outputs": [],
   "source": [
    "3333"
   ]
  }
 ],
 "metadata": {
  "kernelspec": {
   "display_name": "Python 3",
   "language": "python",
   "name": "python3"
  },
  "language_info": {
   "codemirror_mode": {
    "name": "ipython",
    "version": 3
   },
   "file_extension": ".py",
   "mimetype": "text/x-python",
   "name": "python",
   "nbconvert_exporter": "python",
   "pygments_lexer": "ipython3",
   "version": "3.8.8"
  }
 },
 "nbformat": 4,
 "nbformat_minor": 5
}
