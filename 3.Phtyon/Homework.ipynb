{
 "cells": [
  {
   "cell_type": "markdown",
   "id": "57eb42bb",
   "metadata": {},
   "source": [
    "### 3장"
   ]
  },
  {
   "cell_type": "code",
   "execution_count": 0,
   "id": "d78054e5",
   "metadata": {},
   "outputs": [
    {
     "name": "stdout",
     "output_type": "stream",
     "text": [
     ]
    }
   ],
   "source": [
    "A = np.array([[3, -1], [1, 3], [1, 1]])\n",
    "U, S, VT = np.linalg.svd(A)\n",
    "\n",
    "w, V = np.linalg.eig(A @ A.T) \n",
    "idx = np.argsort(w **2 )[::-1] # 내림차순 정렬해 재배열\n",
    "print(w, V)\n",
    "w = w[idx] \n",
    "V = V[:, idx]\n",
    "print(w, V)"
   ]
  }
 ],
  "cells": [
  {
   "cell_type": "markdown",
   "id": "57eb42bb",
   "metadata": {},
   "source": [
    "### 3장"
   ]
  },
  {
   "cell_type": "code",
   "execution_count": 0,
   "id": "d78054e5",
   "metadata": {},
   "outputs": [
    {
     "name": "stdout",
     "output_type": "stream",
     "text": [
     ]
    }
   ],
   "source": [
    "A = np.array([[3, -1], [1, 3], [1, 1]])\n",
    "U, S, VT = np.linalg.svd(A)\n",
    "\n",
    "w, V = np.linalg.eig(A @ A.T) \n",
    "idx = np.argsort(w **2 )[::-1] # 내림차순\n",
    "print(w, V)\n",
    "w = w[idx] \n",
    "V = V[:, idx]\n",
    "print(w, V)"
   ]
  }
 ],
 "metadata": {
  "kernelspec": {
   "display_name": "Python 3",
   "language": "python",
   "name": "python3"
  }
 },
 "nbformat": 4,
 "nbformat_minor": 5
}
