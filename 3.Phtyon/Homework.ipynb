{
 "cells": [
  {
   "cell_type": "markdown",
   "id": "57eb42bb",
   "metadata": {},
   "source": [
    "### 연습문제 3.4.3"
   ]
  },
  {
   "cell_type": "code",
   "execution_count": 0,
   "id": "d78054e5",
   "metadata": {},
   "outputs": [
    {
     "name": "stdout",
     "output_type": "stream",
     "text": [
      "[ 0. 10. 12.] [[ 1.82574186e-01 -8.94427191e-01 -4.08248290e-01]\n",
      " [ 3.65148372e-01  4.47213595e-01 -8.16496581e-01]\n",
      " [-9.12870929e-01  9.27403771e-16 -4.08248290e-01]]\n",
      "[12. 10.  0.] [[-4.08248290e-01 -8.94427191e-01  1.82574186e-01]\n",
      " [-8.16496581e-01  4.47213595e-01  3.65148372e-01]\n",
      " [-4.08248290e-01  9.27403771e-16 -9.12870929e-01]]\n"
     ]
    }
   ],
   "source": [
    "A = np.array([[3, -1], [1, 3], [1, 1]])\n",
    "U, S, VT = np.linalg.svd(A)\n",
    "\n",
    "w, V = np.linalg.eig(A @ A.T) \n",
    "idx = np.argsort(w **2 )[::-1] # 내림차순 정렬해 재배열\n",
    "print(w, V)\n",
    "w = w[idx] \n",
    "V = V[:, idx]\n",
    "print(w, V)"
   ]
  }
 ]
 "nbformat": 4,
 "nbformat_minor": 5
}
