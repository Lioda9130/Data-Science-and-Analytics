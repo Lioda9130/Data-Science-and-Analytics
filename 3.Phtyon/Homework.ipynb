{
 "cells": [
  {
   "cell_type": "code",
   "execution_count": 2,
   "id": "0f34f810",
   "metadata": {},
   "outputs": [],
   "source": [
   "strVal = 'data science'               # 문자열 변수\n",
        "nVal = 12345                          # 정수형 변수\n",
        "fVal = 1.2                            # 실수형 변수\n",
        "lVal = ['data', 'science']            # 리스트\n",
        "dVal = {'lecture' : 'data science'}   # 딕셔너리\n",
        "bVal = True                           # 논리형 변수(참/거짓)"
   ]
  },
    {
   "cell_type": "code",
   "execution_count": 2,
   "id": "0f34f826",
   "metadata": {},
   "outputs": [],
   "source": [
   "# 기본적인 주석\n",
     "''' \n",
        "이런 형태의 주석도 많이 사용\n",
        "'''"
   ]
  },
   {
   "cell_type": "code",
   "execution_count": 2,
   "id": "0f34f826",
   "metadata": {},
   "outputs": [],
   "source": [
    "strVal ",
    "nVal ",
    "fVal ",
    "lVal ",
    "dVal ",
    "bVal \n",
    "print('strVal : ', strVal)\n",
        "print('nVal : ', nVal)\n",
        "print('fVal : ', fVal)\n",
        "print('lVal : ', lVal)\n",
        "print('dVal : ', dVal)\n",
        "print('bVal : ', bVal)",
        "print('strVal : ', type(strVal))\n",
        "print('nVal : ', type(nVal))\n",
        "print('fVal : ', type(fVal))\n",
        "print('lVal : ', type(lVal))\n",
        "print('dVal : ', type(dVal))\n",
        "print('bVal : ', type(bVal))"
    
   ]
  },
   {
   "cell_type": "code",
   "execution_count": 2,
   "id": "0f34f806",
   "metadata": {},
   "outputs": [],
   "source": [
   "'''\n",
        "같은 변수명일 경우, 이전 데이터를 덮어씀\n",
        "'''\n",
        "nVal = 16                          # 정수형 변수\n",
        "fVal = 3.14                        # 실수형 변수\n",
        "print('10진수 표현 : ', nVal)       # 10진수\n",
        "print('2진수 표현 : ', bin(nVal))  # 2진수\n",
        "print('8진수 표현 : ', oct(nVal))  # 8진수\n",
        "print('16진수 표현 : ', hex(nVal))  # 16진수"
   ]
  },
   {
   "cell_type": "code",
   "execution_count": 2,
   "id": "0f34f826",
   "metadata": {},
   "outputs": [],
   "source": [
    "btVal = True                           # 논리형 변수(참)\n",
        "bfVal = False                          # 논리형 변수(거짓)",
        "btVal = TRUE                          # 논리형 변수(참) - 오류\n",
        "bfVal = FALSE                          # 논리형 변수(거짓) - 오류",
        "btVal = true                          # 논리형 변수(참) - 오류\n",
        "bfVal = false                          # 논리형 변수(거짓) - 오류\n",
        "10 == 11\n",
       " 10 != 11\n",
       "10 >= 11\n",
       "10 <= 11\n",
       "10 > 11\n",
       "10 < 11\n",
       "nBig = 100\n",
       "nSmall = 10\n",
        "print(nBig == nSmall)\n",
        "print(nBig != nSmall)\n",
        "print(nBig >= nSmall)\n",
        "print(nBig <= nSmall)\n",
        "print(nBig > nSmall)\n",
        "print(nBig < nSmall)\n",
        "print(nBig =< nSmall)     # 오류\n",
        "print(nBig => nSmall)     # 오류\n"
   ]
  },
   {
   "cell_type": "code",
   "execution_count": 2,
   "id": "0f34f826",
   "metadata": {},
   "outputs": [],
   "source": [
   "strData = 'data'               # 문자열 변수\n",
        "strSci = \"Science\"             # 문자열 변수\n",
         "strLecture = strData + strSci\n",
    "strLecture\n",
    "strLecture = strData +\" \"+ strSci\n",
        "strLecture\n",
    "strLecture.split()              # split()으로 공백을 기준으로 문자열 구분\n",
    "lSeperate = strLecture.split() # split()으로 공백을 기준으로 문자열 구분하여 lSeperate 변수에 저장\n",
     "type(lSeperate)\n",
    "strHello = \"안녕하세요. 반갑습니다.\n",
    "strHello.find(\"반갑\")       # 문자열을 찾기 위해 find() 함수를 이용\n",
    "strHello.find(\"hello\")    # 문자열이 없으면, -1을 리턴\n",
    "\"반갑\" in strHello          # in 명령어를 사용하여 확인 가능 : if 조건문에서 활용\n",
     "strHello.replace('.', '?')    # .을 모두 ?로 변경\n",
     "strHello.replace('.', '?')                  \n",
        "strHello.replace(\"하세요\", \"하셔유\")       # 안녕하셔유? 가 될까요?\n",
        "strHello                      # 원본 데이터는 변하지 않음\n",
         "strNewHello = strHello.replace('.', '?')                    # strHello를 replace하여 strNewHello에 저장   \n",
        "strNewHello = strNewHello.replace(\"하세요\", \"하셔유\")       # strNewHello를 replace하여 strNewHello에 저장\n",
        "strNewHello\n",
        "strHello.strip('반갑습니다.')    # strip()함수를 이용하여 \"반갑습니다.\"를 제거\n",
        "strHello                    # 역시 원본 데이터는 변하지 않음"
        
     
    
   ]
  },
   {
   "cell_type": "code",
   "execution_count": 2,
   "id": "0f34f823",
   "metadata": {},
   "outputs": [],
   "source": [
    "lnData = [1,2,3,4,5]     # lnData를 리스트로 생성\n",
    "print(lnData)\n",
        "print('type : ', type(lnData))\n",
         "print(lnData[0])    # lnData 리스트의 0번 인덱스의 값 출력\n",
        "print(lnData[3])    # lnData 리스트의 3번 인덱스의 값 출력\n",
        "lnData[0] = lnData[4]   # lnData[4]의 값을 lnData[0]에 저장\n",
        "print(lnData)           # lnData 리스트를 출력\n",
        "print(lnData[2:4])      # lnData[4]에 저장된 5는 출력되지 않음\n",
         "lnData = [1,2,3,4,5]\n",
        "lstrData=['a', 'b', 'c']\n",
        "\n",
        "# 두 개의 서로다른 자료형을 가진 리스트를 병합\n",
        "lnData + lstrData\n",
        "lnData.append(10)   # 10을 맨 뒤에 추가\n",
         "lnData\n",
         "lnData.insert(0, 'python')  #'python'문자열을 0번 인덱스에 추가하고, 기존 인덱스에 저장된 데이터는 하나씩 뒤로 밀림(인덱스가 +1 추가)\n",
        "lnData                      \n",
        "lnData.remove('python')     # 'python' 데이터를 삭제\n",
        "lnData\n",
        "del lnData[5]              # del 명령어를 통해 인덱스를 지정하여 삭제\n",
        "lnData\n",
         "lnData\n",
         "lnData.pop(0)     # 0번 인덱스의 데이터를 삭제\n",
        "lnData\n",
        "lnData.pop()     # 인덱스 지정이 없으면, 마지막 인덱스의 값을 삭제\n",
        "lnData\n",
        "lnData.clear()  # 리스트의 모든 데이터를 삭제\n",
        "lnData\n"
        
   ]
  },
     {
   "cell_type": "code",
   "execution_count": 2,
   "id": "0f34f823",
   "metadata": {},
   "outputs": [],
   "source": [
   "# 튜플의 기본 구조\n",
        "tVal = (\"사과\", \"딸기\", \"바나나\", \"토마토\", \"키위\")\n",
        "\n",
        "print(tVal)\n",
        "print(type(tVal))\n",
        "# 튜플에 저장된 데이터는 변경이 불가능\n",
        "tVal[0] = \"포도\"\n",
        "# count() 함수를 이용하여 튜플에 저장된 특정 데이터의 개수를 확인\n",
        "tData = ( 1, 2, 3, 1, 2, 3, 4, 5, 1, 2, 7)\n",
        "tData.count(1)\n",
        "# len()함수를 이용하여 튜플에 저장된 전체 데이터 개수를 확인\n",
        "len(tVal)\n",
         "len(tData)\n",
         "print(tData[2:5])\n",
         "tTuple = tVal+ tData\n",
        "print(tTuple)\n",
        "tData * 2\n",
        "tData\n",
         "tData2 = tData * 2\n",
        "print(tData2)\n",
        "print(\"tVal memory = \", hex(id(tVal)))\n",
        "tVal = tVal * 2\n",
        "print(\"tVal memory = \", hex(id(tVal)))\n",
        "print(tVal)\n",
         "print(\"tVal memory = \", hex(id(tVal)))\n",
        "tVal = tVal + tVal\n",
        "print(\"tVal memory = \", hex(id(tVal)))\n",
        "print(tVal)\n"
        
        
    
   ]
  },
     {
   "cell_type": "code",
   "execution_count": 2,
   "id": "0f34f823",
   "metadata": {},
   "outputs": [],
   "source": [
    "sVal = {1, 2, 3, 4, 5}\n",
        "print(sVal)\n",
        "print(type(sVal))\n",
        "sVal[1:2]\n",
        "sVal.add(100)\n",
        "print(sVal)\n",
        "sVal.update([200, 300])\n",
        "print(sVal)\n",
        "sVal.remove(200)\n",
        "print(sVal)\n",
         "sVal.clear()\n",
        "print(sVal)\n",
        "sVal = {100, 200, 300, 400, 500}\n",
        "sData = {\"a\", \"b\", \"c\", \"c\", 100, 300}\n",
 
        "print(sVal)\n",
        "print(sData)\n",
        "# intersection() 함수를 이용하여 교집합을 만들 수 있음\n",
        "sVal.intersection(sData)\n",
         "# deference() 함수를 이용하여 차집합을 만들 수 있음\n",
        "sVal.difference(sData)\n",
        "# \"-\" 연산자로도 가능\n",
        "sVal - sData\n",
         "# union() 함수를 이용하여 합집합을 만들 수 있음\n",
        "sVal.union(sData)\n",
        "# \"+\"연산자는 불가능\n",
        "sVal + sData\n",
         "# symetric_difference()를 이용하여 합집합에서 교집합을 뺀 집합을 만들 수 있음\n",
        "sVal.symmetric_difference(sData)"
         
   ]
  },
    {
   "cell_type": "code",
   "execution_count": 2,
   "id": "0f34f826",
   "metadata": {},
   "outputs": [],
   "source": [
   "# 기본적인 주석\n",
     "''' \n",
        "이런 형태의 주석도 많이 사용\n",
        "'''"
   ]
  }
 ],
 "metadata": {
  "kernelspec": {
   "display_name": "Python 3",
   "language": "python",
   "name": "python3"
  },
  "language_info": {
   "codemirror_mode": {
    "name": "ipython",
    "version": 3
   },
   "file_extension": ".py",
   "mimetype": "text/x-python",
   "name": "python",
   "nbconvert_exporter": "python",
   "pygments_lexer": "ipython3",
   "version": "3.8.8"
  }
 },
 "nbformat": 4,
 "nbformat_minor": 5
}
