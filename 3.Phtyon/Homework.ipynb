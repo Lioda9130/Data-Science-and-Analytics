{
 "cells": [
  {
   "cell_type": "code",
   "execution_count": 2,
   "id": "0f34f810",
   "metadata": {},
   "outputs": [],
   "source": [
   "strVal = 'data science'               # 문자열 변수\n",
        "nVal = 12345                          # 정수형 변수\n",
        "fVal = 1.2                            # 실수형 변수\n",
        "lVal = ['data', 'science']            # 리스트\n",
        "dVal = {'lecture' : 'data science'}   # 딕셔너리\n",
        "bVal = True                           # 논리형 변수(참/거짓)"
   ]
  },
    {
   "cell_type": "code",
   "execution_count": 2,
   "id": "0f34f826",
   "metadata": {},
   "outputs": [],
   "source": [
   "# 기본적인 주석\n",
     "''' \n",
        "이런 형태의 주석도 많이 사용\n",
        "'''"
   ]
  },
   {
   "cell_type": "code",
   "execution_count": 2,
   "id": "0f34f826",
   "metadata": {},
   "outputs": [],
   "source": [
    "strVal ",
    "nVal ",
    "fVal ",
    "lVal ",
    "dVal ",
    "bVal \n",
    "print('strVal : ', strVal)\n",
        "print('nVal : ', nVal)\n",
        "print('fVal : ', fVal)\n",
        "print('lVal : ', lVal)\n",
        "print('dVal : ', dVal)\n",
        "print('bVal : ', bVal)",
        "print('strVal : ', type(strVal))\n",
        "print('nVal : ', type(nVal))\n",
        "print('fVal : ', type(fVal))\n",
        "print('lVal : ', type(lVal))\n",
        "print('dVal : ', type(dVal))\n",
        "print('bVal : ', type(bVal))"
    
   ]
  },
   {
   "cell_type": "code",
   "execution_count": 2,
   "id": "0f34f806",
   "metadata": {},
   "outputs": [],
   "source": [
   "'''\n",
        "같은 변수명일 경우, 이전 데이터를 덮어씀\n",
        "'''\n",
        "nVal = 16                          # 정수형 변수\n",
        "fVal = 3.14                        # 실수형 변수\n",
        "print('10진수 표현 : ', nVal)       # 10진수\n",
        "print('2진수 표현 : ', bin(nVal))  # 2진수\n",
        "print('8진수 표현 : ', oct(nVal))  # 8진수\n",
        "print('16진수 표현 : ', hex(nVal))  # 16진수"
   ]
  },
   {
   "cell_type": "code",
   "execution_count": 2,
   "id": "0f34f826",
   "metadata": {},
   "outputs": [],
   "source": [
    "btVal = True                           # 논리형 변수(참)\n",
        "bfVal = False                          # 논리형 변수(거짓)",
        "btVal = TRUE                          # 논리형 변수(참) - 오류\n",
        "bfVal = FALSE                          # 논리형 변수(거짓) - 오류",
        "btVal = true                          # 논리형 변수(참) - 오류\n",
        "bfVal = false                          # 논리형 변수(거짓) - 오류\n",
        "10 == 11\n",
       " 10 != 11\n",
       "10 >= 11\n",
       "10 <= 11\n",
       "10 > 11\n",
       "10 < 11\n",
       "nBig = 100\n",
       "nSmall = 10\n",
        "print(nBig == nSmall)\n",
        "print(nBig != nSmall)\n",
        "print(nBig >= nSmall)\n",
        "print(nBig <= nSmall)\n",
        "print(nBig > nSmall)\n",
        "print(nBig < nSmall)\n",
        "print(nBig =< nSmall)     # 오류\n",
        "print(nBig => nSmall)     # 오류\n"
   ]
  },
   {
   "cell_type": "code",
   "execution_count": 2,
   "id": "0f34f826",
   "metadata": {},
   "outputs": [],
   "source": [
   "strData = 'data'               # 문자열 변수\n",
        "strSci = \"Science\"             # 문자열 변수\n",
         "strLecture = strData + strSci\n",
    "strLecture\n",
    "strLecture = strData +\" \"+ strSci\n",
        "strLecture\n",
    "strLecture.split()              # split()으로 공백을 기준으로 문자열 구분\n",
    "lSeperate = strLecture.split() # split()으로 공백을 기준으로 문자열 구분아혀 lSeperate 변수에 저장\n",
     "type(lSeperate)"
    
   ]
  },
   {
   "cell_type": "code",
   "execution_count": 2,
   "id": "0f34f823",
   "metadata": {},
   "outputs": [],
   "source": [
    "3333"
   ]
  }
 ],
 "metadata": {
  "kernelspec": {
   "display_name": "Python 3",
   "language": "python",
   "name": "python3"
  },
  "language_info": {
   "codemirror_mode": {
    "name": "ipython",
    "version": 3
   },
   "file_extension": ".py",
   "mimetype": "text/x-python",
   "name": "python",
   "nbconvert_exporter": "python",
   "pygments_lexer": "ipython3",
   "version": "3.8.8"
  }
 },
 "nbformat": 4,
 "nbformat_minor": 5
}
