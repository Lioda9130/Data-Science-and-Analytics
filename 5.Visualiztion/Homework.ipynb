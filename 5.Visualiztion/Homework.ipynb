{
 "cells": [
   {
   "cell_type": "code",
   "execution_count": 2,
   "id": "0f34f826",
   "metadata": {},
   "outputs": [],
   "source": [ "# 한글 폰트 처리 : 런타임 다시 시작 필요\n",
        "!sudo apt-get install -y fonts-nanum\n",
        "!sudo fc-cache -fv\n",
        "!rm ~/.cache/matplotlib -rf"
   ]
  },
   {
   "cell_type": "code",
   "execution_count": 2,
   "id": "0f34f826",
   "metadata": {},
   "outputs": [],
   "source": [ "import matplotlib as mpl\n",
        "import matplotlib.pyplot as plt\n",
        "import numpy as np\n",
        "\n",
        "%matplotlib inline    "
   ]
  },
  {
   "cell_type": "code",
   "execution_count": 2,
   "id": "0f34f826",
   "metadata": {},
   "outputs": [],
   "source": ["# matplotlib 한글폰트 지정\n",
        "plt.rc('font', family='NanumBarunGothic')\n",
        "\n",
        "# - 기호 깨짐 오류 방지\n",
        "plt.rc('axes', unicode_minus = False)"
   ]
  },
  {
   "cell_type": "code",
   "execution_count": 2,
   "id": "0f34f826",
   "metadata": {},
   "outputs": [],
   "source": [ "# x측\n",
        "x = ['1월', '2월', '3월', '4월', '5월']\n",
        "y = [7, 10, 17, 20, 23]\n",
        "\n",
        "# 그래프\n",
        "plt.plot(x,y)\n",
        "plt.show()"
   ]
  },
   {
   "cell_type": "code",
   "execution_count": 2,
   "id": "0f34f826",
   "metadata": {},
   "outputs": [],
   "source": [
   ]
  },
   {
   "cell_type": "code",
   "execution_count": 2,
   "id": "0f34f826",
   "metadata": {},
   "outputs": [],
   "source": [
   ]
  },
   {
   "cell_type": "code",
   "execution_count": 2,
   "id": "0f34f826",
   "metadata": {},
   "outputs": [],
   "source": [
   ]
  },
   {
   "cell_type": "code",
   "execution_count": 2,
   "id": "0f34f826",
   "metadata": {},
   "outputs": [],
   "source": [
   ]
  },
   {
   "cell_type": "code",
   "execution_count": 2,
   "id": "0f34f826",
   "metadata": {},
   "outputs": [],
   "source": [
   ]
  },
   {
   "cell_type": "code",
   "execution_count": 2,
   "id": "0f34f826",
   "metadata": {},
   "outputs": [],
   "source": [
   ]
  },
  
    {
   "cell_type": "code",
   "execution_count": 2,
   "id": "0f34f826",
   "metadata": {},
   "outputs": [],
   "source": [
   ]
  },
   {
   "cell_type": "code",
   "execution_count": 2,
   "id": "0f34f826",
   "metadata": {},
   "outputs": [],
   "source": [
   ]
  },
   {
   "cell_type": "code",
   "execution_count": 2,
   "id": "0f34f826",
   "metadata": {},
   "outputs": [],
   "source": [
   ]
  },
  {
   "cell_type": "code",
   "execution_count": 2,
   "id": "0f34f826",
   "metadata": {},
   "outputs": [],
   "source": [
   ]
  },
  {
   "cell_type": "code",
   "execution_count": 2,
   "id": "0f34f826",
   "metadata": {},
   "outputs": [],
   "source": [
   ]
  },
   {
   "cell_type": "code",
   "execution_count": 2,
   "id": "0f34f826",
   "metadata": {},
   "outputs": [],
   "source": [
   ]
  },
   {
   "cell_type": "code",
   "execution_count": 2,
   "id": "0f34f826",
   "metadata": {},
   "outputs": [],
   "source": [
   ]
  },
   {
   "cell_type": "code",
   "execution_count": 2,
   "id": "0f34f826",
   "metadata": {},
   "outputs": [],
   "source": [
   ]
  },
     {
   "cell_type": "code",
   "execution_count": 2,
   "id": "0f34f826",
   "metadata": {},
   "outputs": [],
   "source": [
   ]
  },
   {
   "cell_type": "code",
   "execution_count": 2,
   "id": "0f34f826",
   "metadata": {},
   "outputs": [],
   "source": [
   ]
  },
   {
   "cell_type": "code",
   "execution_count": 2,
   "id": "0f34f826",
   "metadata": {},
   "outputs": [],
   "source": [
   ]
  },
  
    {
   "cell_type": "code",
   "execution_count": 2,
   "id": "0f34f826",
   "metadata": {},
   "outputs": [],
   "source": [
   ]
  },
   {
   "cell_type": "code",
   "execution_count": 2,
   "id": "0f34f826",
   "metadata": {},
   "outputs": [],
   "source": [
   ]
  },
   {
   "cell_type": "code",
   "execution_count": 2,
   "id": "0f34f826",
   "metadata": {},
   "outputs": [],
   "source": [
   ]
  },
   {
   "cell_type": "code",
   "execution_count": 2,
   "id": "0f34f826",
   "metadata": {},
   "outputs": [],
   "source": [
   ]
  },
  
    {
   "cell_type": "code",
   "execution_count": 2,
   "id": "0f34f826",
   "metadata": {},
   "outputs": [],
   "source": [
   ]
  },
  {
   "cell_type": "code",
   "execution_count": 2,
   "id": "0f34f826",
   "metadata": {},
   "outputs": [],
   "source": [

   ]
  }
 ],
 
 
 

 
 
 
 
 "metadata": {
  "kernelspec": {
   "display_name": "Python 3",
   "language": "python",
   "name": "python3"
  },
  "language_info": {
   "codemirror_mode": {
    "name": "ipython",
    "version": 3
   },
   "file_extension": ".py",
   "mimetype": "text/x-python",
   "name": "python",
   "nbconvert_exporter": "python",
   "pygments_lexer": "ipython3",
   "version": "3.8.8"
  }
 },
 "nbformat": 4,
 "nbformat_minor": 5
}
