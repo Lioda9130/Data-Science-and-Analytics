{
 "cells": [
   {
   "cell_type": "code",
   "execution_count": 2,
   "id": "0f34f826",
   "metadata": {},
   "outputs": [],
   "source": [ "# 한글 폰트 처리 : 런타임 다시 시작 필요\n",
        "!sudo apt-get install -y fonts-nanum\n",
        "!sudo fc-cache -fv\n",
        "!rm ~/.cache/matplotlib -rf"
   ]
  },
   {
   "cell_type": "code",
   "execution_count": 2,
   "id": "0f34f826",
   "metadata": {},
   "outputs": [],
   "source": [ "import matplotlib as mpl\n",
        "import matplotlib.pyplot as plt\n",
        "import numpy as np\n",
        "\n",
        "%matplotlib inline    "
   ]
  },
  {
   "cell_type": "code",
   "execution_count": 2,
   "id": "0f34f826",
   "metadata": {},
   "outputs": [],
   "source": ["# matplotlib 한글폰트 지정\n",
        "plt.rc('font', family='NanumBarunGothic')\n",
        "\n",
        "# - 기호 깨짐 오류 방지\n",
        "plt.rc('axes', unicode_minus = False)"
   ]
  },
  {
   "cell_type": "code",
   "execution_count": 2,
   "id": "0f34f826",
   "metadata": {},
   "outputs": [],
   "source": [ "# x측\n",
        "x = ['1월', '2월', '3월', '4월', '5월']\n",
        "y = [7, 10, 17, 20, 23]\n",
        "\n",
        "# 그래프\n",
        "plt.plot(x,y)\n",
        "plt.show()"
   ]
  },
   {
   "cell_type": "code",
   "execution_count": 2,
   "id": "0f34f826",
   "metadata": {},
   "outputs": [],
   "source": [ "plt.plot(x,y, color=\"blue\", marker = 'o', linestyle = ':')\n",
        "plt.title('월별 평균 온도', fontsize=15)\n",
        "plt.ylabel('온도(도)')\n",
        "plt.grid(linestyle = ':')\n",
        "plt.show()"
   ]
  },
   {
   "cell_type": "code",
   "execution_count": 2,
   "id": "0f34f826",
   "metadata": {},
   "outputs": [],
   "source": [ "# 40개의 임의의 랜덤값을 생성\n",
        "aVal = np.random.standard_normal(40)\n",
        "aVal "
   ]
  },
   {
   "cell_type": "code",
   "execution_count": 2,
   "id": "0f34f826",
   "metadata": {},
   "outputs": [],
   "source": ["# type 확인\n",
        "# 40개의 랜덤값으로 이루어진 numpy.ndarray형 변수\n",
        "type(aVal)"
   ]
  },
   {
   "cell_type": "code",
   "execution_count": 2,
   "id": "0f34f826",
   "metadata": {},
   "outputs": [],
   "source": ["index = range(len(aVal))\n",
        "plt.plot(index, aVal)\n",
        "\n",
        "# x축, y축의 범위 설정\n",
        "plt.xlim(0, 20)\n",
        "plt.ylim(np.min(aVal) -1, np.max(aVal) + 1)\n",
        "plt.show()"
   ]
  },
   {
   "cell_type": "code",
   "execution_count": 2,
   "id": "0f34f826",
   "metadata": {},
   "outputs": [],
   "source": [ "type(index)"
   ]
  },
   {
   "cell_type": "code",
   "execution_count": 2,
   "id": "0f34f826",
   "metadata": {},
   "outputs": [],
   "source": [  "plt.figure(figsize=(7,4))\n",
        "plt.plot(aVal.cumsum(), 'b', lw= 1.5)\n",
        "plt.plot(aVal.cumsum(), 'ro')\n",
        "plt.xlabel('index')\n",
        "plt.ylabel('aVal')\n",
        "plt.title('Line Plot')\n",
        "plt.show()"
   ]
  },
  
    {
   "cell_type": "code",
   "execution_count": 2,
   "id": "0f34f826",
   "metadata": {},
   "outputs": [],
   "source": [ "value = np.random.standard_normal((30, 2))\n",
        "value"
   ]
  },
   {
   "cell_type": "code",
   "execution_count": 2,
   "id": "0f34f826",
   "metadata": {},
   "outputs": [],
   "source": [ "value[0]"
   ]
  },
   {
   "cell_type": "code",
   "execution_count": 2,
   "id": "0f34f826",
   "metadata": {},
   "outputs": [],
   "source": [ "plt.figure(figsize=(10,4))\n",
        "plt.plot(value[:,0], lw= 1.5)\n",
        "plt.plot(value[:,1], lw= 1.5)\n",
        "plt.plot(value, 'ro')\n",
        "plt.grid(True)\n",
        "# plt.legend(loc=0)\n",
        "plt.xlabel('index')\n",
        "plt.ylabel('value')\n",
        "plt.title('Line Plot')"
   ]
  },
  {
   "cell_type": "code",
   "execution_count": 2,
   "id": "0f34f826",
   "metadata": {},
   "outputs": [],
   "source": ["# 1번째\n",
        "plt.figure(figsize=(10,5))\n",
        "plt.subplot(211)\n",
        "plt.plot(value[:,0], lw = 1.5, label = '1st')\n",
        "plt.plot(value[:,0], 'ro')\n",
        "plt.grid(True)\n",
        "plt.legend(loc = 0)\n",
        "plt.ylabel(\"value\")\n",
        "plt.title('Line Plot 3')\n",
        "# 2번째\n",
        "plt.subplot(212)\n",
        "plt.plot(value[:,1], 'g', lw = 1.5, label = '2nd')\n",
        "plt.grid(True)\n",
        "plt.legend(loc=0)\n",
        "plt.axis('tight')\n",
        "plt.ylabel('value')"
   ]
  },
  {
   "cell_type": "code",
   "execution_count": 2,
   "id": "0f34f826",
   "metadata": {},
   "outputs": [],
   "source": ["# 1번째\n",
        "plt.figure(figsize=(13,5))\n",
        "plt.subplot(231)\n",
        "plt.plot(value[:,0], lw= 1.5, label = '1st')\n",
        "plt.plot(value[:,0], 'co')\n",
        "plt.grid(True)\n",
        "plt.legend(loc=0)\n",
        "plt.ylabel('value')\n",
        "plt.title('Line Plot 3')\n",
        "# 2번째\n",
        "plt.subplot(232)\n",
        "plt.plot(value[:,0], 'g-.', lw=1.5, label='1st')\n",
        "plt.grid(True)\n",
        "plt.legend(loc=0)\n",
        "plt.axis('tight')\n",
        "plt.ylabel('value')\n",
        "# 3번째\n",
        "plt.subplot(233)\n",
        "plt.plot(value[:,0], 'g', lw=1.5, label='1st')\n",
        "plt.plot(value[:,0], 'bD')\n",
        "plt.grid(True)\n",
        "plt.legend(loc=0)\n",
        "plt.axis('tight')\n",
        "plt.ylabel('value')\n",
        "# 4번째\n",
        "plt.subplot(234)\n",
        "plt.plot(value[:,1], '*', lw=1.5, label='2nd')\n",
        "plt.grid(True)\n",
        "plt.legend(loc=0)\n",
        "plt.axis('tight')\n",
        "plt.ylabel('value')\n",
        "# 5번째\n",
        "plt.subplot(235)\n",
        "plt.plot(value[:,1], 'b', lw=1.5, label='2nd')\n",
        "plt.plot(value[:,1], 'ms')\n",
        "plt.grid(True)\n",
        "plt.legend(loc=0)\n",
        "plt.axis('tight')\n",
        "plt.ylabel('value')\n",
        "# 6번째\n",
        "plt.subplot(236)\n",
        "plt.plot(value[:,1], 'r--', lw=1.5, label='2nd')\n",
        "plt.grid(True)\n",
        "plt.legend(loc=0)\n",
        "plt.axis('tight')\n",
        "plt.ylabel('value')"
   ]
  },
   {
   "cell_type": "code",
   "execution_count": 2,
   "id": "0f34f826",
   "metadata": {},
   "outputs": [],
   "source": [
   ]
  },
   {
   "cell_type": "code",
   "execution_count": 2,
   "id": "0f34f826",
   "metadata": {},
   "outputs": [],
   "source": [
   ]
  },
   {
   "cell_type": "code",
   "execution_count": 2,
   "id": "0f34f826",
   "metadata": {},
   "outputs": [],
   "source": [
   ]
  },
     {
   "cell_type": "code",
   "execution_count": 2,
   "id": "0f34f826",
   "metadata": {},
   "outputs": [],
   "source": [
   ]
  },
   {
   "cell_type": "code",
   "execution_count": 2,
   "id": "0f34f826",
   "metadata": {},
   "outputs": [],
   "source": [
   ]
  },
   {
   "cell_type": "code",
   "execution_count": 2,
   "id": "0f34f826",
   "metadata": {},
   "outputs": [],
   "source": [
   ]
  },
  
    {
   "cell_type": "code",
   "execution_count": 2,
   "id": "0f34f826",
   "metadata": {},
   "outputs": [],
   "source": [
   ]
  },
   {
   "cell_type": "code",
   "execution_count": 2,
   "id": "0f34f826",
   "metadata": {},
   "outputs": [],
   "source": [
   ]
  },
   {
   "cell_type": "code",
   "execution_count": 2,
   "id": "0f34f826",
   "metadata": {},
   "outputs": [],
   "source": [
   ]
  },
   {
   "cell_type": "code",
   "execution_count": 2,
   "id": "0f34f826",
   "metadata": {},
   "outputs": [],
   "source": [
   ]
  },
  
    {
   "cell_type": "code",
   "execution_count": 2,
   "id": "0f34f826",
   "metadata": {},
   "outputs": [],
   "source": [
   ]
  },
  {
   "cell_type": "code",
   "execution_count": 2,
   "id": "0f34f826",
   "metadata": {},
   "outputs": [],
   "source": [

   ]
  }
 ],
 
 
 

 
 
 
 
 "metadata": {
  "kernelspec": {
   "display_name": "Python 3",
   "language": "python",
   "name": "python3"
  },
  "language_info": {
   "codemirror_mode": {
    "name": "ipython",
    "version": 3
   },
   "file_extension": ".py",
   "mimetype": "text/x-python",
   "name": "python",
   "nbconvert_exporter": "python",
   "pygments_lexer": "ipython3",
   "version": "3.8.8"
  }
 },
 "nbformat": 4,
 "nbformat_minor": 5
}
