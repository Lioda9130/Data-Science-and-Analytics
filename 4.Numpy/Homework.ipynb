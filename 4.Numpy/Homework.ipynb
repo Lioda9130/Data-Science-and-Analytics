{
 "cells": [
   {
   "cell_type": "code",
   "execution_count": 2,
   "id": "0f34f826",
   "metadata": {},
   "outputs": [],
   "source": [
   "# 내장함수 예 : input\n",
        "strText = input(\"아무 문장이나 입력하세요 : \")\n",
        "print(strText)"
   ]
  },
 
 
 
     {
   "cell_type": "code",
   "execution_count": 2,
   "id": "0f34f826",
   "metadata": {},
   "outputs": [],
   "source": [
   "# List를 이용한 다차원 배열\n",
        "flVal = [1.0, 2.0, 3.14, 4.2, 5.1]  # 실수 list를 생성"
   ]
  },
     {
   "cell_type": "code",
   "execution_count": 2,
   "id": "0f34f826",
   "metadata": {},
   "outputs": [],
   "source": [
    "# flVal 3개를 리스트로 구성하여 arVal 다차원 배열을 생성\n",
        "arVal = [flVal, flVal, flVal]\n",
        "arVal"
   ]
  },
     {
   "cell_type": "code",
   "execution_count": 2,
   "id": "0f34f826",
   "metadata": {},
   "outputs": [],
   "source": [
   "# arVal은 다차원 배열이므로, arVal[n] 인덱스 연산을 통해 n차원 배열 값을 출력\n",
        "arVal[0]"
   ]
  },
     {
   "cell_type": "code",
   "execution_count": 2,
   "id": "0f34f826",
   "metadata": {},
   "outputs": [],
   "source": [
   "arVal[1]"
   ]
  },
     {
   "cell_type": "code",
   "execution_count": 2,
   "id": "0f34f826",
   "metadata": {},
   "outputs": [],
   "source": [
   "arVal[1][2]"
   ]
  },
     {
   "cell_type": "code",
   "execution_count": 2,
   "id": "0f34f826",
   "metadata": {},
   "outputs": [],
   "source": [
   "# 1 차원 값을 변환하여 다른 값을 대입 했을때의 다차원 배열\n",
        "arVal[0] = 'python'\n",
        "arVal"
   ]
  },
     {
   "cell_type": "code",
   "execution_count": 2,
   "id": "0f34f826",
   "metadata": {},
   "outputs": [],
   "source": [
   "arVal[0][2]"
   ]
  },
     {
   "cell_type": "code",
   "execution_count": 2,
   "id": "0f34f826",
   "metadata": {},
   "outputs": [],
   "source": [
  " arVal[0] = 'python programming'\n",
"arVal"
   ]
  },
     {
   "cell_type": "code",
   "execution_count": 2,
   "id": "0f34f826",
   "metadata": {},
   "outputs": [],
   "source": [
    "# numpy 패치지를 import \n",
        "import numpy as np\n",
        "arData = np.array([1.0, 2.0, 3.14, 4.2, 5.1])\n",
        "arData"
   ]
  },   {
   "cell_type": "code",
   "execution_count": 2,
   "id": "0f34f826",
   "metadata": {},
   "outputs": [],
   "source": [
    "# 배열 각 요소의 합을 출력\n",
        "arData.sum()"
   ]
  },
     {
   "cell_type": "code",
   "execution_count": 2,
   "id": "0f34f826",
   "metadata": {},
   "outputs": [],
   "source": [
    "arVal.sum()"
   ]
  },
     {
   "cell_type": "code",
   "execution_count": 2,
   "id": "0f34f826",
   "metadata": {},
   "outputs": [],
   "source": [
    "print(type(arVal))\n",
        "print(type(arData))"
   ]
  },
     {
   "cell_type": "code",
   "execution_count": 2,
   "id": "0f34f826",
   "metadata": {},
   "outputs": [],
   "source": [
   "# 배열에 대한 표준편차 출력\n",
        "arData.std()"
   ]
  },
     {
   "cell_type": "code",
   "execution_count": 2,
   "id": "0f34f826",
   "metadata": {},
   "outputs": [],
   "source": [
    "arData * 2"
   ]
  },
     {
   "cell_type": "code",
   "execution_count": 2,
   "id": "0f34f826",
   "metadata": {},
   "outputs": [],
   "source": [
    "arData ** 2 # 2를 제곱"
   ]
  },
     {
   "cell_type": "code",
   "execution_count": 2,
   "id": "0f34f826",
   "metadata": {},
   "outputs": [],
   "source": [
   "np.sqrt(arData)"
   ]
  },   {
   "cell_type": "code",
   "execution_count": 2,
   "id": "0f34f826",
   "metadata": {},
   "outputs": [],
   "source": [
   "arVal = np.array([arData, arData ** 2])\n",
        "arVal"
   ]
  },
     {
   "cell_type": "code",
   "execution_count": 2,
   "id": "0f34f826",
   "metadata": {},
   "outputs": [],
   "source": [
    "arVal.sum(axis=0) # 축(axis)이 0일 경우 세로 축의 합을 출력"
   ]
  }, 
    {
   "cell_type": "code",
   "execution_count": 2,
   "id": "0f34f826",
   "metadata": {},
   "outputs": [],
   "source": [
   "# NumPy.array를 사용한 코드\n",
        "np.array([[0,0,0],[0,0,0]])"
   ]
  },
    {
   "cell_type": "code",
   "execution_count": 2,
   "id": "0f34f826",
   "metadata": {},
   "outputs": [],
   "source": [
   "# NumPy.zeros를 사용한 코드\n",
        "arZero = np.zeros((2,3), dtype = 'i') \n",
        "arZero"
   ]
  },
    {
   "cell_type": "code",
   "execution_count": 2,
   "id": "0f34f826",
   "metadata": {},
   "outputs": [],
   "source": [
          "import pandas as pd\n",
        "\n",
        "pandas_series = pd.Series([30, 20, 10], index=['국어', '영어', '수학'])\n",
        "print(type(pandas_series))\n",
        "pandas_series"
   ]
  },
  {
   "cell_type": "code",
   "execution_count": 2,
   "id": "0f34f826",
   "metadata": {},
   "outputs": [],
   "source": [
    "pandas_series[1:]"
   ]
  },   {
   "cell_type": "code",
   "execution_count": 2,
   "id": "0f34f826",
   "metadata": {},
   "outputs": [],
   "source": [
    "pandas_series[0]"
   ]
  }, 
  {
   "cell_type": "code",
   "execution_count": 2,
   "id": "0f34f826",
   "metadata": {},
   "outputs": [],
   "source": [
    "pandas_series[0][1]"
   ]
  },   {
   "cell_type": "code",
   "execution_count": 2,
   "id": "0f34f826",
   "metadata": {},
   "outputs": [],
   "source": [
   ]
  },
  {
   "cell_type": "code",
   "execution_count": 2,
   "id": "0f34f826",
   "metadata": {},
   "outputs": [],
   "source": [
   ]
  },   {
   "cell_type": "code",
   "execution_count": 2,
   "id": "0f34f826",
   "metadata": {},
   "outputs": [],
   "source": [
   ]
  },
  {
   "cell_type": "code",
   "execution_count": 2,
   "id": "0f34f826",
   "metadata": {},
   "outputs": [],
   "source": [
   ]
  },   {
   "cell_type": "code",
   "execution_count": 2,
   "id": "0f34f826",
   "metadata": {},
   "outputs": [],
   "source": [
   ]
  },
  {
   "cell_type": "code",
   "execution_count": 2,
   "id": "0f34f826",
   "metadata": {},
   "outputs": [],
   "source": [
   ]
  },   {
   "cell_type": "code",
   "execution_count": 2,
   "id": "0f34f826",
   "metadata": {},
   "outputs": [],
   "source": [
   ]
  },
  {
   "cell_type": "code",
   "execution_count": 2,
   "id": "0f34f826",
   "metadata": {},
   "outputs": [],
   "source": [
   ]
  },   {
   "cell_type": "code",
   "execution_count": 2,
   "id": "0f34f826",
   "metadata": {},
   "outputs": [],
   "source": [
   ]
  },{
   "cell_type": "code",
   "execution_count": 2,
   "id": "0f34f826",
   "metadata": {},
   "outputs": [],
   "source": [
   ]
  },   {
   "cell_type": "code",
   "execution_count": 2,
   "id": "0f34f826",
   "metadata": {},
   "outputs": [],
   "source": [
   ]
  },   {
   "cell_type": "code",
   "execution_count": 2,
   "id": "0f34f826",
   "metadata": {},
   "outputs": [],
   "source": [
   ]
  }
 ],
 "metadata": {
  "kernelspec": {
   "display_name": "Python 3",
   "language": "python",
   "name": "python3"
  },
  "language_info": {
   "codemirror_mode": {
    "name": "ipython",
    "version": 3
   },
   "file_extension": ".py",
   "mimetype": "text/x-python",
   "name": "python",
   "nbconvert_exporter": "python",
   "pygments_lexer": "ipython3",
   "version": "3.8.8"
  }
 },
 "nbformat": 4,
 "nbformat_minor": 5
}
