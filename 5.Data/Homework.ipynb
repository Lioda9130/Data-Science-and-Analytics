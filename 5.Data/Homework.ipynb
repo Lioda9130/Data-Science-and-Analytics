{
 "cells": [
    {
   "cell_type": "code",
   "execution_count": 2,
   "id": "0f34f826",
   "metadata": {},
   "outputs": [],
   "source": ["import pandas as pd\n",
        "\n",
        "sr = pd.Series([100, 200, 300, 400])\n",
        "sr.index = ['A', 'B', 'O', 'AB']\n",
        "sr"
   ]
  },
   {
   "cell_type": "code",
   "execution_count": 2,
   "id": "0f34f826",
   "metadata": {},
   "outputs": [],
   "source": [  "sr1 = pd.Series([10, 20, 30])\n",
        "sr1"
   ]
  },
   {
   "cell_type": "code",
   "execution_count": 2,
   "id": "0f34f826",
   "metadata": {},
   "outputs": [],
   "source": [
    "df = pd.DataFrame({'키':[170, 180, 175], '몸무게':[65, 78, 70]})\n",
        "df.index = ['스파이더맨', '닥터스트레인지', '아이언맨']\n",
        "df"
   ]
  },
   {
   "cell_type": "code",
   "execution_count": 2,
   "id": "0f34f826",
   "metadata": {},
   "outputs": [],
   "source": [ "df = pd.read_csv('scores.csv', encoding='cp949')\n",
        "df"
   ]
  },
   {
   "cell_type": "code",
   "execution_count": 2,
   "id": "0f34f826",
   "metadata": {},
   "outputs": [],
   "source": ["df.head()"
   ]
  },
   {
   "cell_type": "code",
   "execution_count": 2,
   "id": "0f34f826",
   "metadata": {},
   "outputs": [],
   "source": ["df.tail()"
   ]
  },
   {
   "cell_type": "code",
   "execution_count": 2,
   "id": "0f34f826",
   "metadata": {},
   "outputs": [],
   "source": ["df.sample(3)"
   ]
  },
   {
   "cell_type": "code",
   "execution_count": 2,
   "id": "0f34f826",
   "metadata": {},
   "outputs": [],
   "source": [ "df.info()"
   ]
  },
   {
   "cell_type": "code",
   "execution_count": 2,
   "id": "0f34f826",
   "metadata": {},
   "outputs": [],
   "source": ["df.shape"
   ]
  },
   {
   "cell_type": "code",
   "execution_count": 2,
   "id": "0f34f826",
   "metadata": {},
   "outputs": [],
   "source": ["len(df)"
   ]
  },
   {
   "cell_type": "code",
   "execution_count": 2,
   "id": "0f34f826",
   "metadata": {},
   "outputs": [],
   "source": ["df.isnull().sum()"
   ]
  },
   {
   "cell_type": "code",
   "execution_count": 2,
   "id": "0f34f826",
   "metadata": {},
   "outputs": [],
   "source": ["df_dropna = df.dropna()\n",
        "df_dropna"
   ]
  },
   {
   "cell_type": "code",
   "execution_count": 2,
   "id": "0f34f826",
   "metadata": {},
   "outputs": [],
   "source": ["df_fillna = df.fillna(50)\n",
        "df_fillna"
   ]
  },
   {
   "cell_type": "code",
   "execution_count": 2,
   "id": "0f34f826",
   "metadata": {},
   "outputs": [],
   "source": [ "df.describe()"
   ]
  },
   {
   "cell_type": "code",
   "execution_count": 2,
   "id": "0f34f826",
   "metadata": {},
   "outputs": [],
   "source": ["df['국어'].sum()"
   ]
  },
   {
   "cell_type": "code",
   "execution_count": 2,
   "id": "0f34f826",
   "metadata": {},
   "outputs": [],
   "source": [ "df.value_counts('영어')"
   ]
  },
   {
   "cell_type": "code",
   "execution_count": 2,
   "id": "0f34f826",
   "metadata": {},
   "outputs": [],
   "source": [ "df['국어']"
   ]
  },
   {
   "cell_type": "code",
   "execution_count": 2,
   "id": "0f34f826",
   "metadata": {},
   "outputs": [],
   "source": [ "df[['국어', '영어']]"
   ]
  },
   {
   "cell_type": "code",
   "execution_count": 2,
   "id": "0f34f826",
   "metadata": {},
   "outputs": [],
   "source": [ "df.loc[1]"
   ]
  },
   {
   "cell_type": "code",
   "execution_count": 2,
   "id": "0f34f826",
   "metadata": {},
   "outputs": [],
   "source": [ "df.loc[[1,2,3]]"
   ]
  },
   {
   "cell_type": "code",
   "execution_count": 2,
   "id": "0f34f826",
   "metadata": {},
   "outputs": [],
   "source": [ "df.iloc[2]"
   ]
  },
   {
   "cell_type": "code",
   "execution_count": 2,
   "id": "0f34f826",
   "metadata": {},
   "outputs": [],
   "source": [ "df.iloc[2:5]"
   ]
  },
   {
   "cell_type": "code",
   "execution_count": 2,
   "id": "0f34f826",
   "metadata": {},
   "outputs": [],
   "source": ["# 시퀀스가 아니라 인덱스로 추출\n",
        "df.loc[2:5]"
   ]
  },
   {
   "cell_type": "code",
   "execution_count": 2,
   "id": "0f34f826",
   "metadata": {},
   "outputs": [],
   "source": [ "df"
   ]
  },
   {
   "cell_type": "code",
   "execution_count": 2,
   "id": "0f34f826",
   "metadata": {},
   "outputs": [],
   "source": ["df.iloc[1,3]"
   ]
  },
   {
   "cell_type": "code",
   "execution_count": 2,
   "id": "0f34f826",
   "metadata": {},
   "outputs": [],
   "source": [ "df.iloc[1:3, 1:3]"
   ]
  },
   {
   "cell_type": "code",
   "execution_count": 2,
   "id": "0f34f826",
   "metadata": {},
   "outputs": [],
   "source": [
   ]
  },
   {
   "cell_type": "code",
   "execution_count": 2,
   "id": "0f34f826",
   "metadata": {},
   "outputs": [],
   "source": [
   ]
  },
   {
   "cell_type": "code",
   "execution_count": 2,
   "id": "0f34f826",
   "metadata": {},
   "outputs": [],
   "source": [
   ]
  },
   {
   "cell_type": "code",
   "execution_count": 2,
   "id": "0f34f826",
   "metadata": {},
   "outputs": [],
   "source": [
   ]
  },
   {
   "cell_type": "code",
   "execution_count": 2,
   "id": "0f34f826",
   "metadata": {},
   "outputs": [],
   "source": [
   ]
  },
   {
   "cell_type": "code",
   "execution_count": 2,
   "id": "0f34f826",
   "metadata": {},
   "outputs": [],
   "source": [
   ]
  },
   {
   "cell_type": "code",
   "execution_count": 2,
   "id": "0f34f826",
   "metadata": {},
   "outputs": [],
   "source": [
   ]
  },
   {
   "cell_type": "code",
   "execution_count": 2,
   "id": "0f34f826",
   "metadata": {},
   "outputs": [],
   "source": [
   ]
  },
  
    {
   "cell_type": "code",
   "execution_count": 2,
   "id": "0f34f826",
   "metadata": {},
   "outputs": [],
   "source": [
   ]
  },
  {
   "cell_type": "code",
   "execution_count": 2,
   "id": "0f34f826",
   "metadata": {},
   "outputs": [],
   "source": [

   ]
  }
 ],
 
 
 

 
 
 
 
 "metadata": {
  "kernelspec": {
   "display_name": "Python 3",
   "language": "python",
   "name": "python3"
  },
  "language_info": {
   "codemirror_mode": {
    "name": "ipython",
    "version": 3
   },
   "file_extension": ".py",
   "mimetype": "text/x-python",
   "name": "python",
   "nbconvert_exporter": "python",
   "pygments_lexer": "ipython3",
   "version": "3.8.8"
  }
 },
 "nbformat": 4,
 "nbformat_minor": 5
}
